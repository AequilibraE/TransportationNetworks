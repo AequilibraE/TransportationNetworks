{
 "cells": [
  {
   "cell_type": "code",
   "execution_count": 9,
   "metadata": {},
   "outputs": [],
   "source": [
    "import os\n",
    "import sys\n",
    "import numpy as np\n",
    "import pandas as pd\n",
    "import openmatrix as omx"
   ]
  },
  {
   "cell_type": "code",
   "execution_count": 10,
   "metadata": {},
   "outputs": [
    {
     "data": {
      "text/plain": [
       "'D:\\\\src\\\\TransportationNetworks'"
      ]
     },
     "execution_count": 10,
     "metadata": {},
     "output_type": "execute_result"
    }
   ],
   "source": [
    "# Assume you have not changed the relative paths after cloning the repository\n",
    "root = os.path.dirname(os.path.abspath('.'))\n",
    "root"
   ]
  },
  {
   "cell_type": "code",
   "execution_count": 11,
   "metadata": {},
   "outputs": [],
   "source": [
    "# We list all folders available, most of which are TNTP instances\n",
    "folders = [x for x in os.listdir(root)[1:] if os.path.isdir(os.path.join(root, x))]"
   ]
  },
  {
   "cell_type": "code",
   "execution_count": 16,
   "metadata": {
    "code_folding": []
   },
   "outputs": [],
   "source": [
    "# Function to import OMX matrices\n",
    "def import_matrix(matfile):\n",
    "    f = open(matfile, 'r')\n",
    "    all_rows = f.read()\n",
    "    blocks = all_rows.split('Origin')[1:]\n",
    "    matrix = {}\n",
    "    for k in range(len(blocks)):\n",
    "        orig = blocks[k].split('\\n')\n",
    "        dests = orig[1:]\n",
    "        orig=int(orig[0])\n",
    "\n",
    "        d = [eval('{'+a.replace(';',',').replace(' ','') +'}') for a in dests]\n",
    "        destinations = {}\n",
    "        for i in d:\n",
    "            destinations = {**destinations, **i}\n",
    "        matrix[orig] = destinations\n",
    "    zones = max(matrix.keys())\n",
    "    mat = np.zeros((zones, zones))\n",
    "    for i in range(zones):\n",
    "        for j in range(zones):\n",
    "            # We map values to a index i-1, as Numpy is base 0\n",
    "            mat[i, j] = matrix.get(i+1,{}).get(j+1,0)\n",
    "\n",
    "    index = np.arange(zones) + 1\n",
    "\n",
    "    myfile = omx.open_file('demand.omx','w')\n",
    "    myfile['matrix'] = mat\n",
    "    myfile.create_mapping('taz', index)\n",
    "    myfile.close()\n",
    "    return index"
   ]
  },
  {
   "cell_type": "code",
   "execution_count": 13,
   "metadata": {},
   "outputs": [],
   "source": [
    "# If you want to create AequilibraE graph and matrix\n",
    "import sys\n",
    "sys.path.append('D:/src/aequilibrae')\n",
    "from aequilibrae.paths import Graph"
   ]
  },
  {
   "cell_type": "code",
   "execution_count": 62,
   "metadata": {
    "code_folding": []
   },
   "outputs": [],
   "source": [
    "def import_networks(netfile, index):\n",
    "    network = pd.read_csv(netfile, skiprows=8, sep='\\t')\n",
    "    trimmed= [s.strip().lower() for s in network.columns]\n",
    "    network.columns = trimmed\n",
    "    network.drop(['~',';'], axis=1, inplace=True)\n",
    "    \n",
    "    aeq_cols = []\n",
    "    for i in list(network.columns):\n",
    "        if i == 'init_node':\n",
    "            aeq_cols.append('a_node')\n",
    "        elif i == 'term_node':\n",
    "            aeq_cols.append('b_node')\n",
    "        elif i == 'b':\n",
    "            aeq_cols.append('alpha')\n",
    "        elif i == 'power':\n",
    "            aeq_cols.append('beta')\n",
    "        else:\n",
    "            aeq_cols.append(i)\n",
    "    network.columns = aeq_cols\n",
    "    network.fillna(0, inplace=True)\n",
    "    network = network.assign(direction=1)\n",
    "    network = network.assign(link_id=np.arange(1,network.shape[0]+1))\n",
    "    \n",
    "    g = Graph()\n",
    "    g.network = network.to_records(index=False)\n",
    "    g.network_ok = True\n",
    "    g.status = 'OK'\n",
    "    g.prepare_graph(index)\n",
    "    g.set_graph('free_flow_time')\n",
    "    g.graph\n",
    "    g.save_to_disk('graph.aeg')"
   ]
  },
  {
   "cell_type": "code",
   "execution_count": 105,
   "metadata": {
    "code_folding": [],
    "scrolled": true
   },
   "outputs": [
    {
     "name": "stdout",
     "output_type": "stream",
     "text": [
      "ANAHEIM\n",
      "    trips\n",
      "            38 zones\n",
      "    networks\n",
      "AUSTIN\n",
      "    trips\n",
      "            7388 zones\n",
      "    networks\n",
      "BARCELONA\n",
      "    trips\n",
      "            110 zones\n",
      "    networks\n",
      "BERLIN-CENTER\n",
      "    trips\n",
      "            865 zones\n",
      "    networks\n",
      "BERLIN-FRIEDRICHSHAIN\n",
      "    trips\n",
      "            23 zones\n",
      "    networks\n",
      "BERLIN-MITTE-CENTER\n",
      "    trips\n",
      "            36 zones\n",
      "    networks\n",
      "BERLIN-MITTE-PRENZLAUERBERG-FRIEDRICHSHAIN-CENTER\n",
      "    trips\n",
      "            98 zones\n",
      "    networks\n",
      "BERLIN-PRENZLAUERBERG-CENTER\n",
      "    trips\n",
      "            38 zones\n",
      "    networks\n",
      "BERLIN-TIERGARTEN\n",
      "    trips\n",
      "            26 zones\n",
      "    networks\n",
      "BIRMINGHAM-ENGLAND\n",
      "    trips\n",
      "            898 zones\n",
      "    networks\n",
      "BRAESS-EXAMPLE\n",
      "    trips\n",
      "            1 zones\n",
      "    networks\n",
      "CHICAGO-SKETCH\n",
      "    trips\n",
      "            387 zones\n",
      "    networks\n",
      "EASTERN-MASSACHUSETTS\n",
      "    trips\n",
      "            74 zones\n",
      "    networks\n",
      "GOLDCOAST\n",
      "    trips\n",
      "            1068 zones\n",
      "HESSEN-ASYMMETRIC\n",
      "    trips\n",
      "            245 zones\n",
      "    networks\n",
      "PHILADELPHIA\n",
      "    trips\n",
      "            1525 zones\n",
      "    networks\n",
      "SIOUXFALLS\n",
      "    trips\n",
      "            24 zones\n",
      "    networks\n",
      "    networks\n",
      "TERRASSA-ASYMMETRIC\n",
      "    trips\n",
      "            55 zones\n",
      "    networks\n",
      "WINNIPEG-ASYMMETRIC\n",
      "    trips\n",
      "            147 zones\n",
      "    networks\n",
      "WINNIPEG\n",
      "    trips\n",
      "            147 zones\n",
      "    networks\n",
      "CHICAGO-REGIONAL\n",
      "    trips\n",
      "            1790 zones\n",
      "    networks\n"
     ]
    }
   ],
   "source": [
    "for f in folders:\n",
    "    mod = os.path.join(root, f)\n",
    "    os.chdir(mod)\n",
    "    mod_files = os.listdir('.')\n",
    "    \n",
    "    for i in mod_files:\n",
    "        if 'TRIPS' in i.upper() and i.lower()[-5:]=='.tntp':\n",
    "            print(f.upper())\n",
    "            print('    trips')\n",
    "            index = import_matrix(i)\n",
    "            print('            {} zones'.format(index.shape[0]))\n",
    "    for netfile in mod_files:\n",
    "        if '_NET.' in netfile.upper() and netfile.lower()[-5:]=='.tntp':\n",
    "            print('    networks')\n",
    "            import_networks(netfile, index)"
   ]
  }
 ],
 "metadata": {
  "kernelspec": {
   "display_name": "Python 3",
   "language": "python",
   "name": "python3"
  },
  "language_info": {
   "codemirror_mode": {
    "name": "ipython",
    "version": 3
   },
   "file_extension": ".py",
   "mimetype": "text/x-python",
   "name": "python",
   "nbconvert_exporter": "python",
   "pygments_lexer": "ipython3",
   "version": "3.7.4"
  }
 },
 "nbformat": 4,
 "nbformat_minor": 4
}
